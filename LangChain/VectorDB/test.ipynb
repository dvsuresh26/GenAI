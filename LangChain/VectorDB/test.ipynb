{
 "cells": [
  {
   "cell_type": "code",
   "execution_count": 31,
   "metadata": {},
   "outputs": [],
   "source": [
    "import langchain\n",
    "from langchain_community.document_loaders import PyPDFDirectoryLoader\n",
    "from langchain.text_splitter import RecursiveCharacterTextSplitter\n",
    "from langchain.embeddings import OpenAIEmbeddings\n",
    "from langchain.llms import openai\n",
    "from langchain.vectorstores import Pinecone"
   ]
  },
  {
   "cell_type": "code",
   "execution_count": 3,
   "metadata": {},
   "outputs": [],
   "source": [
    "import  os\n",
    "from dotenv import load_dotenv\n",
    "load_dotenv()\n",
    "os.environ[\"OPENAI_API_KEY\"]=os.getenv(\"OPENAI_API_KEY\")\n",
    "loader = PyPDFDirectoryLoader(\"./pdfdocs\")\n",
    "docs=loader.load()\n",
    "chunks = RecursiveCharacterTextSplitter(chunk_size=1000,chunk_overlap=200).split_documents(docs)\n",
    "\n",
    "\n"
   ]
  },
  {
   "cell_type": "code",
   "execution_count": 26,
   "metadata": {},
   "outputs": [],
   "source": [
    "embeddings = OpenAIEmbeddings()\n"
   ]
  },
  {
   "cell_type": "code",
   "execution_count": 17,
   "metadata": {},
   "outputs": [
    {
     "name": "stdout",
     "output_type": "stream",
     "text": [
      "692811a3-35a7-43fa-a0b3-49393ba17a6c\n"
     ]
    }
   ],
   "source": [
    "import  os\n",
    "from dotenv import load_dotenv\n",
    "load_dotenv()\n",
    "api_key=os.getenv(\"PINECONE_API_KEY\")\n",
    "print(api_key)"
   ]
  },
  {
   "cell_type": "code",
   "execution_count": 22,
   "metadata": {},
   "outputs": [
    {
     "name": "stderr",
     "output_type": "stream",
     "text": [
      "/Users/venkatadaggupati/Documents/github/GenAI/LangChain/env/lib/python3.10/site-packages/pinecone/data/index.py:1: TqdmWarning: IProgress not found. Please update jupyter and ipywidgets. See https://ipywidgets.readthedocs.io/en/stable/user_install.html\n",
      "  from tqdm.autonotebook import tqdm\n"
     ]
    }
   ],
   "source": [
    "# os.environ[\"PINECONE_API_KEY\"]=api_key\n",
    "# from pinecone import Pinecone"
   ]
  },
  {
   "cell_type": "code",
   "execution_count": 28,
   "metadata": {},
   "outputs": [],
   "source": [
    "\n",
    "pc = Pinecone(api_key=\"692811a3-35a7-43fa-a0b3-49393ba17a6c\")\n",
    "# index = pc.Index(\"langchain\")"
   ]
  },
  {
   "cell_type": "code",
   "execution_count": 32,
   "metadata": {},
   "outputs": [],
   "source": [
    "\n",
    "vectorDB= Pinecone.from_documents(chunks,embeddings,index_name=\"langchain\")"
   ]
  },
  {
   "cell_type": "code",
   "execution_count": 33,
   "metadata": {},
   "outputs": [],
   "source": [
    "def rel_docs(query,k):\n",
    "    matching_results = vectorDB.similarity_search(query,k=2)\n",
    "    return matching_results"
   ]
  },
  {
   "cell_type": "code",
   "execution_count": 34,
   "metadata": {},
   "outputs": [
    {
     "data": {
      "text/plain": [
       "[Document(page_content='1\\n State of California Generative AI \\nToolkit for Procurement, Use, and Training  \\nToolkit Requirements   \\nWho is this toolkit for?  \\nState teams seeking to procure and evaluate  GenAI use cases. This includes people \\nwith varying  roles including information security, procurement, legal, and program \\ndelivery. \\nToolkit Purpose  \\n●This toolkit should support and empower state entities to be able to self -assess risk\\nlevels, collaborate with control agencies on higher risk use cases, and document\\nand share learnings throughout their GenAI experimentation.\\n●This toolkit focuses  on user -centered, plain language guidelines that link out to\\ndetailed policy as needed. It should not be regarded as a policy documentitself.\\n●This document will be updated on an ongoing basis based on both user\\nfeedback and evolving best practices in GenAI.\\nToolkit Modules  \\nModule  Topic  \\n1    Landing Page  \\n2    Where to Start  \\n3    Identifying and Evaluating GenAI Use Cases  \\n4    Training and Resources', metadata={'page': 0.0, 'source': 'pdfdocs/pdfdocs.pdf'}),\n",
       " Document(page_content='26 Toolkit Roadmap and FAQ  \\nWhat other resources or guidance can you give me? What if I have more questions?  \\nThis toolkit is intended to be a living resource that evolves to meet the needs of s tate \\nstaff navigating the complex landscape of Gen AI. \\nIn the coming months, we plan to expand the toolkit with new toolkit modules, best \\npractices, FAQs, and training courses based on user feedback and new developments \\nin GenAI tools. Some priority areas for future content include:  \\n●G\\nuidance for evaluating GenAI impacts on  historically vulnerable and\\nmarginalized communities.\\n●Training modules for procuring and using GenAI products for State use.\\n●Guidance to aid s tate entities in determining whether to deploy a GenAI tool.\\n●Best practices for using GenAI tools for public sector use cases.', metadata={'page': 25.0, 'source': 'pdfdocs/pdfdocs.pdf'})]"
      ]
     },
     "execution_count": 34,
     "metadata": {},
     "output_type": "execute_result"
    }
   ],
   "source": [
    "rel_docs(\"what is this tool kit purpose\",2)"
   ]
  },
  {
   "cell_type": "code",
   "execution_count": 35,
   "metadata": {},
   "outputs": [],
   "source": [
    "retriver = vectorDB.as_retriever()\n",
    "from langchain.chains import create_retrieval_chain\n",
    "#OPENAI LLM\n",
    "from langchain_openai import ChatOpenAI\n",
    "llm=ChatOpenAI(model=\"gpt-3.5-turbo\")\n",
    "from langchain_core.prompts import ChatPromptTemplate\n",
    "prompt=ChatPromptTemplate.from_template(\n",
    "    \"\"\"\n",
    "        Answer the following quesions based on only the given context in triple backticks. Think twice before giving the answer.\n",
    "        ```{context}```\n",
    "        question:{input}\n",
    "    \"\"\"\n",
    ")\n",
    "\n",
    "#Chain\n",
    "#Create Stuff document chain\n",
    "from langchain.chains.combine_documents import create_stuff_documents_chain\n",
    "document_chain = create_stuff_documents_chain(llm,prompt)\n",
    "\n"
   ]
  },
  {
   "cell_type": "code",
   "execution_count": 36,
   "metadata": {},
   "outputs": [],
   "source": [
    "from langchain.chains import create_retrieval_chain\n",
    "retrieval_chain = create_retrieval_chain(retriver,document_chain) \n",
    "response = retrieval_chain.invoke({\"input\":\"Purpose of tool kit\"})"
   ]
  },
  {
   "cell_type": "code",
   "execution_count": 38,
   "metadata": {},
   "outputs": [
    {
     "data": {
      "text/plain": [
       "'The purpose of the toolkit is to support and empower state entities in procuring and evaluating GenAI use cases. It aims to help state teams self-assess risk levels, collaborate with control agencies on higher risk use cases, and document and share learnings throughout their GenAI experimentation. The toolkit focuses on user-centered, plain language guidelines and will be updated based on user feedback and evolving best practices in GenAI.'"
      ]
     },
     "execution_count": 38,
     "metadata": {},
     "output_type": "execute_result"
    }
   ],
   "source": [
    "response['answer']"
   ]
  },
  {
   "cell_type": "code",
   "execution_count": 40,
   "metadata": {},
   "outputs": [],
   "source": [
    "#Experiment with QAChain\n",
    "from langchain.chains.question_answering import load_qa_chain\n",
    "from langchain import OpenAI"
   ]
  },
  {
   "cell_type": "code",
   "execution_count": 46,
   "metadata": {},
   "outputs": [
    {
     "data": {
      "text/plain": [
       "'\\n1. The toolkit is intended to be a living resource that evolves to meet the needs of state staff navigating the complex landscape of Gen AI.\\n2. In the coming months, the toolkit will be expanded with new modules, best practices, FAQs, and training courses based on user feedback and new developments in GenAI tools.\\n3. Some priority areas for future content include guidance for evaluating GenAI impacts on historically vulnerable and marginalized communities, training modules for procuring and using GenAI products for state use, guidance to aid state entities in determining whether to deploy a GenAI tool, and best practices for using GenAI tools for public sector use cases.\\n4. The toolkit currently contains eight modules, including a landing page, where to start, identifying and evaluating GenAI use cases, training and resources, GenAI risk assessment and management, procurement process for GenAI, toolkit roadmap and FAQ, and additional definitions and resources.\\n5. The toolkit is designed to provide guidance and resources for state entities to effectively and ethically utilize GenAI tools. \\n6. It is recommended that state staff utilize the toolkit as a starting point and continue to monitor for updates and new resources as the toolkit evolves.'"
      ]
     },
     "execution_count": 46,
     "metadata": {},
     "output_type": "execute_result"
    }
   ],
   "source": [
    "llm=OpenAI()\n",
    "chain=load_qa_chain(llm,chain_type=\"stuff\")\n",
    "# similar_docs=rel_docs(query,3)\n",
    "query =\" Tool kit usuage? Provide the response points wise\"\n",
    "chain.run(input_documents=rel_docs(query,3),question=query)"
   ]
  }
 ],
 "metadata": {
  "kernelspec": {
   "display_name": "env",
   "language": "python",
   "name": "python3"
  },
  "language_info": {
   "codemirror_mode": {
    "name": "ipython",
    "version": 3
   },
   "file_extension": ".py",
   "mimetype": "text/x-python",
   "name": "python",
   "nbconvert_exporter": "python",
   "pygments_lexer": "ipython3",
   "version": "3.10.9"
  }
 },
 "nbformat": 4,
 "nbformat_minor": 2
}
