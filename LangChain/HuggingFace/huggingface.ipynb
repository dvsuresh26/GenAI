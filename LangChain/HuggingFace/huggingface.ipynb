{
 "cells": [
  {
   "cell_type": "code",
   "execution_count": 2,
   "metadata": {},
   "outputs": [],
   "source": [
    "from langchain_community.document_loaders import PyPDFLoader\n",
    "from langchain_community.document_loaders import PyPDFDirectoryLoader\n",
    "from langchain.text_splitter import RecursiveCharacterTextSplitter\n",
    "from langchain_community.vectorstores import FAISS\n",
    "from langchain_community.embeddings import HuggingFaceBgeEmbeddings\n",
    "from langchain.chains import retrieval_qa\n"
   ]
  },
  {
   "cell_type": "code",
   "execution_count": 3,
   "metadata": {},
   "outputs": [],
   "source": [
    "loader = PyPDFDirectoryLoader(\"./us_census\")\n",
    "documents = loader.load()"
   ]
  },
  {
   "cell_type": "code",
   "execution_count": 4,
   "metadata": {},
   "outputs": [
    {
     "data": {
      "text/plain": [
       "Document(page_content='QuickFacts\\nNew Jersey\\nQuickFacts provides statistics for all states and counties. Also for cities and towns with a population of 5,000 or more .\\nAll Topics\\nAsian alone, per cent (a) 10.5%\\n\\uf061 PEOPLE\\nPopulation\\nPopulation estimates, July 1, 2023, (V2023) 9,290,841\\nPopulation estimates base, April 1, 2020, (V2023) 9,289,039\\nPopulation, percent change - April 1, 2020 (estimates base) to July 1, 2023, (V2023)  Z\\nPopulation, Census, April 1, 2020 9,288,994\\nPopulation, Census, April 1, 2010 8,791,894\\nAge and Sex\\nPersons under 5 years, percent 5.6%\\nPersons under 18 years, percent 21.5%\\nPersons 65 years and over , percent 17.4%\\nFemale persons, percent 50.7%\\nRace and Hispanic Origin\\nWhite alone, percent 70.7%\\nBlack or African American alone, percent (a) 15.4%\\nAmerican Indian and Alaska Native alone, percent (a) 0.7%\\nAsian alone, per cent (a) 10.5%\\nNative Hawaiian and Other Paciﬁc Islander alone, percent (a) 0.1%\\nTwo or More Races, percent 2.4%\\nHispanic or Latino, percent (b) 21.9%', metadata={'source': 'us_census/newjersey_Census.pdf', 'page': 0})"
      ]
     },
     "execution_count": 4,
     "metadata": {},
     "output_type": "execute_result"
    }
   ],
   "source": [
    "text_splitter = RecursiveCharacterTextSplitter(chunk_size=1000,chunk_overlap=200)\n",
    "chunks = text_splitter.split_documents(documents)\n",
    "chunks[0]"
   ]
  },
  {
   "cell_type": "code",
   "execution_count": 11,
   "metadata": {},
   "outputs": [
    {
     "name": "stderr",
     "output_type": "stream",
     "text": [
      "/Users/venkatadaggupati/Documents/github/GenAI/LangChain/env/lib/python3.10/site-packages/sentence_transformers/cross_encoder/CrossEncoder.py:11: TqdmWarning: IProgress not found. Please update jupyter and ipywidgets. See https://ipywidgets.readthedocs.io/en/stable/user_install.html\n",
      "  from tqdm.autonotebook import tqdm, trange\n",
      "/Users/venkatadaggupati/Documents/github/GenAI/LangChain/env/lib/python3.10/site-packages/threadpoolctl.py:1214: RuntimeWarning: \n",
      "Found Intel OpenMP ('libiomp') and LLVM OpenMP ('libomp') loaded at\n",
      "the same time. Both libraries are known to be incompatible and this\n",
      "can cause random crashes or deadlocks on Linux when loaded in the\n",
      "same Python program.\n",
      "Using threadpoolctl may cause crashes or deadlocks. For more\n",
      "information and possible workarounds, please see\n",
      "    https://github.com/joblib/threadpoolctl/blob/master/multiple_openmp.md\n",
      "\n",
      "  warnings.warn(msg, RuntimeWarning)\n",
      "/Users/venkatadaggupati/Documents/github/GenAI/LangChain/env/lib/python3.10/site-packages/huggingface_hub/file_download.py:1132: FutureWarning: `resume_download` is deprecated and will be removed in version 1.0.0. Downloads always resume when possible. If you want to force a new download, use `force_download=True`.\n",
      "  warnings.warn(\n"
     ]
    }
   ],
   "source": [
    "embeddings = HuggingFaceBgeEmbeddings(\n",
    "    model_name=\"BAAI/bge-small-en-v1.5\",\n",
    "    model_kwargs={'device':'cpu'},\n",
    "    encode_kwargs={'normalize_embeddings':True}\n",
    ")"
   ]
  },
  {
   "cell_type": "code",
   "execution_count": 12,
   "metadata": {},
   "outputs": [
    {
     "data": {
      "text/plain": [
       "array([-1.71148777e-02, -1.93089209e-02, -1.22574242e-02, -3.32077108e-02,\n",
       "        9.31104552e-03,  8.93147066e-02, -2.11889986e-02,  2.64065973e-02,\n",
       "       -2.52565965e-02,  2.04341765e-02,  8.54972154e-02,  2.38653291e-02,\n",
       "       -2.85084806e-02,  4.16703746e-02, -5.45041449e-02,  1.97422057e-02,\n",
       "       -5.30546643e-02, -4.16378044e-02,  1.51249459e-02,  1.25307338e-02,\n",
       "       -1.58364139e-02, -8.92073754e-03,  7.91625679e-03, -2.97001675e-02,\n",
       "        3.83283570e-02, -3.67041072e-03, -2.01306492e-02, -5.53899538e-03,\n",
       "        5.25682326e-03, -1.20353006e-01, -6.35554194e-02,  1.21362070e-02,\n",
       "        2.35978495e-02,  1.91010926e-02, -3.13012525e-02, -8.40320438e-02,\n",
       "        1.74941085e-02,  7.96508938e-02,  1.56750120e-02,  2.90601347e-02,\n",
       "       -2.03176346e-02,  5.17980475e-03,  9.39342007e-03,  1.54345632e-02,\n",
       "       -2.96535175e-02,  4.58275415e-02, -8.19966123e-02,  2.86644343e-02,\n",
       "        3.32695921e-03, -3.31382849e-03,  2.96977684e-02, -7.20072985e-02,\n",
       "        3.36876586e-02,  7.33835176e-02,  8.46059900e-03, -3.92837776e-03,\n",
       "       -2.90336609e-02,  2.64447834e-02, -5.15445601e-03,  2.05556806e-02,\n",
       "        2.96969642e-03, -3.97077873e-02, -1.73428491e-01,  4.59264182e-02,\n",
       "        7.69307138e-03,  1.59172732e-02,  7.82499742e-03, -4.04478535e-02,\n",
       "       -7.95403793e-02, -1.07102357e-01, -5.54552861e-02,  9.79791954e-02,\n",
       "        2.98275296e-02,  3.69819067e-02,  1.54526178e-02, -1.05255134e-02,\n",
       "        4.74870391e-03,  9.19106044e-03,  5.35826832e-02, -6.90970495e-02,\n",
       "        1.43831484e-02, -2.22526351e-03,  1.83903296e-02, -6.34194026e-03,\n",
       "        3.91997024e-03, -3.87467799e-06, -4.60603610e-02,  6.83265030e-02,\n",
       "       -3.88758481e-02,  3.61036956e-02,  1.24542229e-02,  3.93369002e-03,\n",
       "        3.71631458e-02, -2.65870220e-03, -1.25137344e-02,  5.44995628e-02,\n",
       "        1.25803575e-02,  2.49915663e-03, -1.59896421e-03,  2.99344599e-01,\n",
       "        1.19515499e-02,  3.06093749e-02,  6.82596862e-02,  1.16508687e-02,\n",
       "       -5.01803532e-02, -4.90838885e-02, -2.06424445e-02, -6.61685690e-02,\n",
       "       -1.65198799e-02,  2.29025353e-02, -3.58176939e-02, -3.03277653e-02,\n",
       "       -1.54300053e-02, -2.62339879e-02,  1.67441182e-02, -5.05246595e-02,\n",
       "        1.31118193e-01,  5.25253154e-02,  5.34635819e-02, -1.50288651e-02,\n",
       "        1.79009105e-03,  1.93435680e-02, -3.53087950e-03, -5.32755442e-02,\n",
       "        7.40569830e-02,  6.48540258e-02, -1.64231919e-02,  9.96250659e-02,\n",
       "        4.52644341e-02,  1.20815355e-02,  5.84446415e-02, -4.40303050e-03,\n",
       "       -8.48788992e-02,  3.01520643e-03, -2.52517071e-02, -7.42264092e-02,\n",
       "        2.85127237e-02,  2.88363844e-02, -1.53294941e-02, -1.96720213e-02,\n",
       "        3.31297144e-03, -1.07918657e-01,  4.85312939e-03, -5.12531698e-02,\n",
       "       -5.37379794e-02,  7.48053566e-02, -4.62809131e-02,  3.03456634e-02,\n",
       "        5.75076081e-02, -5.22539346e-03, -3.61611210e-02,  1.59157440e-01,\n",
       "       -6.38263598e-02,  2.72742268e-02, -1.89933088e-02,  3.44916619e-02,\n",
       "       -3.69121903e-03,  6.40858104e-03,  1.14784976e-02,  9.82778147e-03,\n",
       "        3.07433121e-02, -7.59973051e-03, -2.39538085e-02,  1.85903721e-02,\n",
       "        4.90094759e-02, -4.72913459e-02, -1.48358382e-02,  6.71035722e-02,\n",
       "       -2.88778404e-03, -3.44210416e-02,  3.77770700e-02,  5.97224198e-02,\n",
       "        2.81251632e-02,  1.06233859e-03,  1.05150640e-01,  4.87110950e-03,\n",
       "        7.05013284e-03,  5.62164467e-03,  1.38088586e-02,  3.29552069e-02,\n",
       "       -7.15029240e-03,  4.11064662e-02, -5.60244247e-02,  2.67110616e-02,\n",
       "       -3.89791233e-03, -3.87016870e-02, -1.52276410e-02,  4.24700137e-03,\n",
       "        7.35946279e-03,  5.62754869e-02, -3.11227469e-03, -2.77087986e-02,\n",
       "       -3.28680575e-02,  1.98138859e-02, -9.79859265e-04,  2.78716516e-02,\n",
       "       -5.79232164e-02, -4.94374521e-02,  9.53420773e-02, -6.69748485e-02,\n",
       "       -5.29559795e-03,  6.09685816e-02,  2.08785646e-02,  3.02763842e-02,\n",
       "        2.28603892e-02,  2.88862009e-02,  4.05810289e-02, -4.62719426e-02,\n",
       "        2.52529234e-02,  1.12158814e-02, -4.22085170e-04,  4.83395888e-05,\n",
       "        1.58093944e-02, -2.15493850e-02,  6.74343854e-02,  3.82218175e-02,\n",
       "        1.43054053e-02, -2.55020149e-02,  9.02335718e-02, -8.42430629e-04,\n",
       "       -3.65243964e-02, -6.51493669e-02, -1.47063555e-02, -2.91429639e-01,\n",
       "       -3.09667010e-02,  1.03540011e-01, -2.21313797e-02, -3.47779617e-02,\n",
       "       -2.91304141e-02,  1.15231089e-02,  1.59154497e-02,  2.38284076e-04,\n",
       "        1.26229599e-01, -4.48259898e-02, -5.31430170e-02, -2.58960724e-02,\n",
       "        7.69790486e-02,  3.08137424e-02, -1.31316008e-02,  3.89244184e-02,\n",
       "        3.25916447e-02, -7.18931551e-04, -7.77333677e-02,  6.77960925e-03,\n",
       "       -4.20281813e-02, -8.61118212e-02,  3.43580022e-02,  5.92069961e-02,\n",
       "       -1.40528977e-02,  5.78786619e-02, -5.53548336e-02, -6.95663393e-02,\n",
       "       -7.84857273e-02,  2.88060331e-03, -2.19105072e-02, -6.17032126e-02,\n",
       "       -3.96104297e-03, -5.91945974e-03, -2.27772724e-03, -4.15526927e-02,\n",
       "        7.22500170e-03, -7.62506351e-02,  8.48761275e-02, -5.26710749e-02,\n",
       "       -5.21474592e-02,  1.94776338e-04, -5.57172634e-02, -3.91908251e-02,\n",
       "       -5.37444502e-02,  3.42282131e-02,  4.42809239e-02, -2.68490445e-02,\n",
       "       -5.88023998e-02, -1.32954223e-02,  1.30942604e-02,  9.22653154e-02,\n",
       "       -1.04996683e-02, -1.60572436e-02, -6.21483587e-02, -4.14553806e-02,\n",
       "       -3.93585712e-02, -1.55454027e-02,  1.64428446e-02, -1.24118561e-02,\n",
       "       -3.65103371e-02,  3.08532231e-02, -1.78095791e-02, -2.83964258e-02,\n",
       "       -1.51099516e-02, -2.31950711e-02,  1.82865523e-02, -5.64789400e-02,\n",
       "        1.84690095e-02, -4.52673472e-02,  4.13050279e-02, -1.81627925e-02,\n",
       "       -2.72037135e-03,  8.53004865e-03, -5.00945747e-03, -3.05949189e-02,\n",
       "       -4.92709503e-02,  1.93849802e-02, -1.53383957e-02,  2.51247156e-02,\n",
       "       -4.52585928e-02,  2.39415392e-02,  5.00354506e-02,  1.77467149e-02,\n",
       "        8.13952908e-02,  2.45553069e-02,  7.86187723e-02,  2.34032813e-02,\n",
       "        3.59368287e-02,  3.40075530e-02, -4.75412793e-02,  7.82664940e-02,\n",
       "       -2.25461423e-02, -8.91346335e-02, -5.61301559e-02, -2.56490290e-01,\n",
       "        3.76916192e-02, -4.62094098e-02,  1.96894463e-02,  1.50391897e-02,\n",
       "        1.39270378e-02,  3.23504359e-02,  3.35364975e-02, -1.79008488e-03,\n",
       "        4.06780019e-02,  2.91296225e-02,  3.17157842e-02,  1.10053033e-01,\n",
       "       -2.21183393e-02,  1.82995796e-02,  1.01807644e-03, -1.57892741e-02,\n",
       "        2.29317211e-02,  1.97254606e-02, -5.57654724e-02,  8.09974521e-02,\n",
       "       -1.96262021e-02,  1.37805119e-01, -1.81016773e-02, -3.58350985e-02,\n",
       "        4.77695353e-02,  5.78826619e-03,  1.66101959e-02,  2.82664690e-02,\n",
       "       -1.08063273e-01, -1.81537345e-02,  1.08740497e-02,  1.01259455e-01,\n",
       "       -9.68052167e-03,  3.10575850e-02, -1.48485983e-02, -3.67035274e-03,\n",
       "       -1.01895574e-02, -2.73707453e-02, -4.44036536e-03, -5.34085445e-02,\n",
       "       -2.94196308e-02,  4.08861190e-02,  5.45099042e-02,  1.13245964e-01,\n",
       "        9.76611022e-03, -1.47640165e-02, -8.78905058e-02, -2.84626577e-02,\n",
       "        6.79518208e-02, -2.16617044e-02, -2.45990288e-02, -1.01863928e-02,\n",
       "       -2.09287927e-02, -6.32304745e-03, -2.90447026e-02, -2.01867688e-02,\n",
       "       -1.30094793e-02,  1.63875818e-02, -8.16422224e-04,  1.50983557e-02,\n",
       "        1.27372844e-02, -6.34956881e-02, -2.58442434e-03, -2.17583347e-02])"
      ]
     },
     "execution_count": 12,
     "metadata": {},
     "output_type": "execute_result"
    }
   ],
   "source": [
    "import numpy as np\n",
    "np.array(embeddings.embed_query(chunks[0].page_content))"
   ]
  },
  {
   "cell_type": "code",
   "execution_count": 13,
   "metadata": {},
   "outputs": [],
   "source": [
    "vector_store= FAISS.from_documents(chunks,embeddings)"
   ]
  },
  {
   "cell_type": "code",
   "execution_count": 15,
   "metadata": {},
   "outputs": [
    {
     "data": {
      "text/plain": [
       "[Document(page_content='QuickFacts\\nNew Jersey\\nQuickFacts provides statistics for all states and counties. Also for cities and towns with a population of 5,000 or more .\\nAll Topics\\nAsian alone, per cent (a) 10.5%\\n\\uf061 PEOPLE\\nPopulation\\nPopulation estimates, July 1, 2023, (V2023) 9,290,841\\nPopulation estimates base, April 1, 2020, (V2023) 9,289,039\\nPopulation, percent change - April 1, 2020 (estimates base) to July 1, 2023, (V2023)  Z\\nPopulation, Census, April 1, 2020 9,288,994\\nPopulation, Census, April 1, 2010 8,791,894\\nAge and Sex\\nPersons under 5 years, percent 5.6%\\nPersons under 18 years, percent 21.5%\\nPersons 65 years and over , percent 17.4%\\nFemale persons, percent 50.7%\\nRace and Hispanic Origin\\nWhite alone, percent 70.7%\\nBlack or African American alone, percent (a) 15.4%\\nAmerican Indian and Alaska Native alone, percent (a) 0.7%\\nAsian alone, per cent (a) 10.5%\\nNative Hawaiian and Other Paciﬁc Islander alone, percent (a) 0.1%\\nTwo or More Races, percent 2.4%\\nHispanic or Latino, percent (b) 21.9%', metadata={'source': 'us_census/newjersey_Census.pdf', 'page': 0}),\n",
       " Document(page_content='Female persons, percent 50.1% 57.0% 50.0%\\nRace and Hispanic Origin\\nWhite alone, percent 48.1% 57.9% 77.4%\\nBlack or African American alone, percent (a) 23.6% 32.7% 13.4%\\nAmerican Indian and Alaska Native alone, percent (a) 0.6% 0.8% 1.1%\\nAsian alone, per cent (a) 3.7% 1.2% 5.7%\\nNative Hawaiian and Other Paciﬁc Islander alone, percent (a) 0.0% 0.0% 0.2%\\nTwo or More Races, percent 13.1% 3.1% 2.3%\\nHispanic or Latino, percent (b) 42.4% 16.6% 40.2%\\nWhite alone, not Hispanic or Latino, percent 28.3% 47.9% 39.8%\\nPopulation Characteristics\\nVeterans, 2018-2022 37,700 407 1,416,973\\nForeign born persons, percent, 2018-2022 23.8% 9.3% 17.1%\\nHousing\\nHousing Units, July 1, 2023, (V2023) X X 12,395,364\\nOwner -occupied housing unit rate, 2018-2022 41.9% 52.6% 62.4%\\nMedian value of owner -occupied housing units, 2018-2022 $270,700 $208,700 $238,000\\nMedian selected monthly owner costs -with a mortgage, 2018-2022 $2,068 $1,558 $1,913', metadata={'source': 'us_census/Dallas_Census.pdf', 'page': 0}),\n",
       " Document(page_content='Asian alone, per cent (a) 10.5%\\nNative Hawaiian and Other Paciﬁc Islander alone, percent (a) 0.1%\\nTwo or More Races, percent 2.4%\\nHispanic or Latino, percent (b) 21.9%\\nWhite alone, not Hispanic or Latino, percent 52.9%\\nPopulation Characteristics\\nVeterans, 2018-2022 299,078\\nForeign born persons, percent, 2018-2022 23.2%\\nHousing\\nHousing Units, July 1, 2023, (V2023) 3,804,012\\nOwner -occupied housing unit rate, 2018-2022 63.9%\\nMedian value of owner -occupied housing units, 2018-2022 $401,400\\nMedian selected monthly owner costs -with a mortgage, 2018-2022 $2,728\\nMedian selected monthly owner costs -without a mortgage, 2018-2022 $1,175\\nMedian gross rent, 2018-2022 $1,577\\nBuilding Permits, 2023 32,840\\nFamilies & Living Arrangements\\nHouseholds, 2018-2022 3,438,162\\nPersons per household, 2018-2022 2.64\\nLiving in same house 1 year ago, percent of persons age 1 year+, 2018-2022 89.8%\\nLanguage other than English spoken at home, percent of persons age 5 years+, 2018-2022 32.2%', metadata={'source': 'us_census/newjersey_Census.pdf', 'page': 0}),\n",
       " Document(page_content=\"Living in same house 1 year ago, percent of persons age 1 year+, 2018-2022 89.8%\\nLanguage other than English spoken at home, percent of persons age 5 years+, 2018-2022 32.2%\\nComputer  and Internet Use\\nHouseholds with a computer , percent, 2018-2022 94.5%\\nHouseholds with a broadband Internet subscription, percent, 2018-2022 90.6%\\nEducation\\nHigh school graduate or higher , percent of persons age 25 years+, 2018-2022 90.6%\\nBachelor's degree or higher , percent of persons age 25 years+, 2018-2022 42.3%\\nHealth\\nWith a disability , under age 65 years, percent, 2018-2022 6.8%\\nPersons without health insurance, under age 65 years, percent 8.0%New Jersey\\n\\ue840\\ue83f\\n\\ue840\\ue83f\\n\\ue840\\ue83f\\n\\ue840\\ue83f\\n\\ue840\\ue83f\\n\\ue840\\ue83f\\n\\ue840\\ue83f\\n\\ue840\\ue83f\\n\\ue840\\ue83f\\n\\ue840\\ue83f\\n\\ue840\\ue83f\\n\\ue840\\ue83f\\n\\ue840\\ue83f\\n\\ue840\\ue83f\\n\\ue840\\ue83f\\n\\ue840\\ue83f\\n\\ue840\\ue83f\", metadata={'source': 'us_census/newjersey_Census.pdf', 'page': 0})]"
      ]
     },
     "execution_count": 15,
     "metadata": {},
     "output_type": "execute_result"
    }
   ],
   "source": [
    "query = \" what is the perecentage of asians in new jersey\"\n",
    "rel_docs = vector_store.similarity_search(query)\n",
    "rel_docs"
   ]
  },
  {
   "cell_type": "code",
   "execution_count": 16,
   "metadata": {},
   "outputs": [
    {
     "name": "stdout",
     "output_type": "stream",
     "text": [
      "tags=['FAISS', 'HuggingFaceBgeEmbeddings'] vectorstore=<langchain_community.vectorstores.faiss.FAISS object at 0x7fce2373be80> search_kwargs={'k': 3}\n"
     ]
    }
   ],
   "source": [
    "retriver = vector_store.as_retriever(search_type=\"similarity\",search_kwargs={\"k\":3})\n",
    "print(retriver)\n"
   ]
  },
  {
   "cell_type": "code",
   "execution_count": 18,
   "metadata": {},
   "outputs": [],
   "source": [
    "import os\n",
    "from dotenv import load_dotenv\n",
    "load_dotenv()\n",
    "os.environ[\"HUGGINGFACEHUB_API_TOKEN\"]=os.getenv(\"HUGGINGFACEHUB_API_TOKEN\")"
   ]
  },
  {
   "cell_type": "code",
   "execution_count": 19,
   "metadata": {},
   "outputs": [
    {
     "ename": "GatedRepoError",
     "evalue": "403 Client Error. (Request ID: Root=1-667057ac-1776bb9a484812fd313497f0;1630caf8-8f28-4cc6-aed1-d7f3a944b764)\n\nCannot access gated repo for url https://huggingface.co/api/models/mistralai/Mistral-7B-v0.1.\nAccess to model mistralai/Mistral-7B-v0.1 is restricted and you are not in the authorized list. Visit https://huggingface.co/mistralai/Mistral-7B-v0.1 to ask for access.",
     "output_type": "error",
     "traceback": [
      "\u001b[0;31m---------------------------------------------------------------------------\u001b[0m",
      "\u001b[0;31mHTTPError\u001b[0m                                 Traceback (most recent call last)",
      "File \u001b[0;32m~/Documents/github/GenAI/LangChain/env/lib/python3.10/site-packages/huggingface_hub/utils/_errors.py:304\u001b[0m, in \u001b[0;36mhf_raise_for_status\u001b[0;34m(response, endpoint_name)\u001b[0m\n\u001b[1;32m    303\u001b[0m \u001b[38;5;28;01mtry\u001b[39;00m:\n\u001b[0;32m--> 304\u001b[0m     \u001b[43mresponse\u001b[49m\u001b[38;5;241;43m.\u001b[39;49m\u001b[43mraise_for_status\u001b[49m\u001b[43m(\u001b[49m\u001b[43m)\u001b[49m\n\u001b[1;32m    305\u001b[0m \u001b[38;5;28;01mexcept\u001b[39;00m HTTPError \u001b[38;5;28;01mas\u001b[39;00m e:\n",
      "File \u001b[0;32m~/Documents/github/GenAI/LangChain/env/lib/python3.10/site-packages/requests/models.py:1021\u001b[0m, in \u001b[0;36mResponse.raise_for_status\u001b[0;34m(self)\u001b[0m\n\u001b[1;32m   1020\u001b[0m \u001b[38;5;28;01mif\u001b[39;00m http_error_msg:\n\u001b[0;32m-> 1021\u001b[0m     \u001b[38;5;28;01mraise\u001b[39;00m HTTPError(http_error_msg, response\u001b[38;5;241m=\u001b[39m\u001b[38;5;28mself\u001b[39m)\n",
      "\u001b[0;31mHTTPError\u001b[0m: 403 Client Error: Forbidden for url: https://huggingface.co/api/models/mistralai/Mistral-7B-v0.1",
      "\nThe above exception was the direct cause of the following exception:\n",
      "\u001b[0;31mGatedRepoError\u001b[0m                            Traceback (most recent call last)",
      "Cell \u001b[0;32mIn[19], line 2\u001b[0m\n\u001b[1;32m      1\u001b[0m \u001b[38;5;28;01mfrom\u001b[39;00m \u001b[38;5;21;01mlangchain_community\u001b[39;00m\u001b[38;5;21;01m.\u001b[39;00m\u001b[38;5;21;01mllms\u001b[39;00m \u001b[38;5;28;01mimport\u001b[39;00m HuggingFaceHub\n\u001b[0;32m----> 2\u001b[0m hf \u001b[38;5;241m=\u001b[39m \u001b[43mHuggingFaceHub\u001b[49m\u001b[43m(\u001b[49m\n\u001b[1;32m      3\u001b[0m \u001b[43m    \u001b[49m\u001b[43mrepo_id\u001b[49m\u001b[38;5;241;43m=\u001b[39;49m\u001b[38;5;124;43m\"\u001b[39;49m\u001b[38;5;124;43mmistralai/Mistral-7B-v0.1\u001b[39;49m\u001b[38;5;124;43m\"\u001b[39;49m\u001b[43m,\u001b[49m\n\u001b[1;32m      4\u001b[0m \u001b[43m    \u001b[49m\u001b[43mmodel_kwargs\u001b[49m\u001b[38;5;241;43m=\u001b[39;49m\u001b[43m{\u001b[49m\u001b[38;5;124;43m\"\u001b[39;49m\u001b[38;5;124;43mtemperature\u001b[39;49m\u001b[38;5;124;43m\"\u001b[39;49m\u001b[43m:\u001b[49m\u001b[38;5;241;43m0.1\u001b[39;49m\u001b[43m,\u001b[49m\u001b[38;5;124;43m\"\u001b[39;49m\u001b[38;5;124;43mmax_length\u001b[39;49m\u001b[38;5;124;43m\"\u001b[39;49m\u001b[43m:\u001b[49m\u001b[38;5;241;43m500\u001b[39;49m\u001b[43m}\u001b[49m\n\u001b[1;32m      5\u001b[0m \u001b[43m)\u001b[49m\n\u001b[1;32m      6\u001b[0m query \u001b[38;5;241m=\u001b[39m \u001b[38;5;124m\"\u001b[39m\u001b[38;5;124mTotal population in Dallas\u001b[39m\u001b[38;5;124m\"\u001b[39m\n\u001b[1;32m      7\u001b[0m hf\u001b[38;5;241m.\u001b[39minvoke(query)\n",
      "File \u001b[0;32m~/Documents/github/GenAI/LangChain/env/lib/python3.10/site-packages/langchain_core/_api/deprecation.py:203\u001b[0m, in \u001b[0;36mdeprecated.<locals>.deprecate.<locals>.finalize.<locals>.warn_if_direct_instance\u001b[0;34m(self, *args, **kwargs)\u001b[0m\n\u001b[1;32m    201\u001b[0m     warned \u001b[38;5;241m=\u001b[39m \u001b[38;5;28;01mTrue\u001b[39;00m\n\u001b[1;32m    202\u001b[0m     emit_warning()\n\u001b[0;32m--> 203\u001b[0m \u001b[38;5;28;01mreturn\u001b[39;00m \u001b[43mwrapped\u001b[49m\u001b[43m(\u001b[49m\u001b[38;5;28;43mself\u001b[39;49m\u001b[43m,\u001b[49m\u001b[43m \u001b[49m\u001b[38;5;241;43m*\u001b[39;49m\u001b[43margs\u001b[49m\u001b[43m,\u001b[49m\u001b[43m \u001b[49m\u001b[38;5;241;43m*\u001b[39;49m\u001b[38;5;241;43m*\u001b[39;49m\u001b[43mkwargs\u001b[49m\u001b[43m)\u001b[49m\n",
      "File \u001b[0;32m~/Documents/github/GenAI/LangChain/env/lib/python3.10/site-packages/pydantic/v1/main.py:339\u001b[0m, in \u001b[0;36mBaseModel.__init__\u001b[0;34m(__pydantic_self__, **data)\u001b[0m\n\u001b[1;32m    333\u001b[0m \u001b[38;5;250m\u001b[39m\u001b[38;5;124;03m\"\"\"\u001b[39;00m\n\u001b[1;32m    334\u001b[0m \u001b[38;5;124;03mCreate a new model by parsing and validating input data from keyword arguments.\u001b[39;00m\n\u001b[1;32m    335\u001b[0m \n\u001b[1;32m    336\u001b[0m \u001b[38;5;124;03mRaises ValidationError if the input data cannot be parsed to form a valid model.\u001b[39;00m\n\u001b[1;32m    337\u001b[0m \u001b[38;5;124;03m\"\"\"\u001b[39;00m\n\u001b[1;32m    338\u001b[0m \u001b[38;5;66;03m# Uses something other than `self` the first arg to allow \"self\" as a settable attribute\u001b[39;00m\n\u001b[0;32m--> 339\u001b[0m values, fields_set, validation_error \u001b[38;5;241m=\u001b[39m \u001b[43mvalidate_model\u001b[49m\u001b[43m(\u001b[49m\u001b[43m__pydantic_self__\u001b[49m\u001b[38;5;241;43m.\u001b[39;49m\u001b[38;5;18;43m__class__\u001b[39;49m\u001b[43m,\u001b[49m\u001b[43m \u001b[49m\u001b[43mdata\u001b[49m\u001b[43m)\u001b[49m\n\u001b[1;32m    340\u001b[0m \u001b[38;5;28;01mif\u001b[39;00m validation_error:\n\u001b[1;32m    341\u001b[0m     \u001b[38;5;28;01mraise\u001b[39;00m validation_error\n",
      "File \u001b[0;32m~/Documents/github/GenAI/LangChain/env/lib/python3.10/site-packages/pydantic/v1/main.py:1100\u001b[0m, in \u001b[0;36mvalidate_model\u001b[0;34m(model, input_data, cls)\u001b[0m\n\u001b[1;32m   1098\u001b[0m     \u001b[38;5;28;01mcontinue\u001b[39;00m\n\u001b[1;32m   1099\u001b[0m \u001b[38;5;28;01mtry\u001b[39;00m:\n\u001b[0;32m-> 1100\u001b[0m     values \u001b[38;5;241m=\u001b[39m \u001b[43mvalidator\u001b[49m\u001b[43m(\u001b[49m\u001b[43mcls_\u001b[49m\u001b[43m,\u001b[49m\u001b[43m \u001b[49m\u001b[43mvalues\u001b[49m\u001b[43m)\u001b[49m\n\u001b[1;32m   1101\u001b[0m \u001b[38;5;28;01mexcept\u001b[39;00m (\u001b[38;5;167;01mValueError\u001b[39;00m, \u001b[38;5;167;01mTypeError\u001b[39;00m, \u001b[38;5;167;01mAssertionError\u001b[39;00m) \u001b[38;5;28;01mas\u001b[39;00m exc:\n\u001b[1;32m   1102\u001b[0m     errors\u001b[38;5;241m.\u001b[39mappend(ErrorWrapper(exc, loc\u001b[38;5;241m=\u001b[39mROOT_KEY))\n",
      "File \u001b[0;32m~/Documents/github/GenAI/LangChain/env/lib/python3.10/site-packages/langchain_community/llms/huggingface_hub.py:84\u001b[0m, in \u001b[0;36mHuggingFaceHub.validate_environment\u001b[0;34m(cls, values)\u001b[0m\n\u001b[1;32m     80\u001b[0m         \u001b[38;5;28;01mraise\u001b[39;00m \u001b[38;5;167;01mValueError\u001b[39;00m(\n\u001b[1;32m     81\u001b[0m             \u001b[38;5;124m\"\u001b[39m\u001b[38;5;124mMust specify either `repo_id` or `task`, or both.\u001b[39m\u001b[38;5;124m\"\u001b[39m\n\u001b[1;32m     82\u001b[0m         )\n\u001b[1;32m     83\u001b[0m     \u001b[38;5;66;03m# Use the recommended task for the chosen model\u001b[39;00m\n\u001b[0;32m---> 84\u001b[0m     model_info \u001b[38;5;241m=\u001b[39m \u001b[43mHfApi\u001b[49m\u001b[43m(\u001b[49m\u001b[43mtoken\u001b[49m\u001b[38;5;241;43m=\u001b[39;49m\u001b[43mhuggingfacehub_api_token\u001b[49m\u001b[43m)\u001b[49m\u001b[38;5;241;43m.\u001b[39;49m\u001b[43mmodel_info\u001b[49m\u001b[43m(\u001b[49m\n\u001b[1;32m     85\u001b[0m \u001b[43m        \u001b[49m\u001b[43mrepo_id\u001b[49m\u001b[38;5;241;43m=\u001b[39;49m\u001b[43mrepo_id\u001b[49m\n\u001b[1;32m     86\u001b[0m \u001b[43m    \u001b[49m\u001b[43m)\u001b[49m\n\u001b[1;32m     87\u001b[0m     values[\u001b[38;5;124m\"\u001b[39m\u001b[38;5;124mtask\u001b[39m\u001b[38;5;124m\"\u001b[39m] \u001b[38;5;241m=\u001b[39m model_info\u001b[38;5;241m.\u001b[39mpipeline_tag\n\u001b[1;32m     88\u001b[0m \u001b[38;5;28;01mif\u001b[39;00m values[\u001b[38;5;124m\"\u001b[39m\u001b[38;5;124mtask\u001b[39m\u001b[38;5;124m\"\u001b[39m] \u001b[38;5;129;01mnot\u001b[39;00m \u001b[38;5;129;01min\u001b[39;00m VALID_TASKS_DICT:\n",
      "File \u001b[0;32m~/Documents/github/GenAI/LangChain/env/lib/python3.10/site-packages/huggingface_hub/utils/_validators.py:114\u001b[0m, in \u001b[0;36mvalidate_hf_hub_args.<locals>._inner_fn\u001b[0;34m(*args, **kwargs)\u001b[0m\n\u001b[1;32m    111\u001b[0m \u001b[38;5;28;01mif\u001b[39;00m check_use_auth_token:\n\u001b[1;32m    112\u001b[0m     kwargs \u001b[38;5;241m=\u001b[39m smoothly_deprecate_use_auth_token(fn_name\u001b[38;5;241m=\u001b[39mfn\u001b[38;5;241m.\u001b[39m\u001b[38;5;18m__name__\u001b[39m, has_token\u001b[38;5;241m=\u001b[39mhas_token, kwargs\u001b[38;5;241m=\u001b[39mkwargs)\n\u001b[0;32m--> 114\u001b[0m \u001b[38;5;28;01mreturn\u001b[39;00m \u001b[43mfn\u001b[49m\u001b[43m(\u001b[49m\u001b[38;5;241;43m*\u001b[39;49m\u001b[43margs\u001b[49m\u001b[43m,\u001b[49m\u001b[43m \u001b[49m\u001b[38;5;241;43m*\u001b[39;49m\u001b[38;5;241;43m*\u001b[39;49m\u001b[43mkwargs\u001b[49m\u001b[43m)\u001b[49m\n",
      "File \u001b[0;32m~/Documents/github/GenAI/LangChain/env/lib/python3.10/site-packages/huggingface_hub/hf_api.py:2301\u001b[0m, in \u001b[0;36mHfApi.model_info\u001b[0;34m(self, repo_id, revision, timeout, securityStatus, files_metadata, token)\u001b[0m\n\u001b[1;32m   2299\u001b[0m     params[\u001b[38;5;124m\"\u001b[39m\u001b[38;5;124mblobs\u001b[39m\u001b[38;5;124m\"\u001b[39m] \u001b[38;5;241m=\u001b[39m \u001b[38;5;28;01mTrue\u001b[39;00m\n\u001b[1;32m   2300\u001b[0m r \u001b[38;5;241m=\u001b[39m get_session()\u001b[38;5;241m.\u001b[39mget(path, headers\u001b[38;5;241m=\u001b[39mheaders, timeout\u001b[38;5;241m=\u001b[39mtimeout, params\u001b[38;5;241m=\u001b[39mparams)\n\u001b[0;32m-> 2301\u001b[0m \u001b[43mhf_raise_for_status\u001b[49m\u001b[43m(\u001b[49m\u001b[43mr\u001b[49m\u001b[43m)\u001b[49m\n\u001b[1;32m   2302\u001b[0m data \u001b[38;5;241m=\u001b[39m r\u001b[38;5;241m.\u001b[39mjson()\n\u001b[1;32m   2303\u001b[0m \u001b[38;5;28;01mreturn\u001b[39;00m ModelInfo(\u001b[38;5;241m*\u001b[39m\u001b[38;5;241m*\u001b[39mdata)\n",
      "File \u001b[0;32m~/Documents/github/GenAI/LangChain/env/lib/python3.10/site-packages/huggingface_hub/utils/_errors.py:321\u001b[0m, in \u001b[0;36mhf_raise_for_status\u001b[0;34m(response, endpoint_name)\u001b[0m\n\u001b[1;32m    317\u001b[0m \u001b[38;5;28;01melif\u001b[39;00m error_code \u001b[38;5;241m==\u001b[39m \u001b[38;5;124m\"\u001b[39m\u001b[38;5;124mGatedRepo\u001b[39m\u001b[38;5;124m\"\u001b[39m:\n\u001b[1;32m    318\u001b[0m     message \u001b[38;5;241m=\u001b[39m (\n\u001b[1;32m    319\u001b[0m         \u001b[38;5;124mf\u001b[39m\u001b[38;5;124m\"\u001b[39m\u001b[38;5;132;01m{\u001b[39;00mresponse\u001b[38;5;241m.\u001b[39mstatus_code\u001b[38;5;132;01m}\u001b[39;00m\u001b[38;5;124m Client Error.\u001b[39m\u001b[38;5;124m\"\u001b[39m \u001b[38;5;241m+\u001b[39m \u001b[38;5;124m\"\u001b[39m\u001b[38;5;130;01m\\n\u001b[39;00m\u001b[38;5;130;01m\\n\u001b[39;00m\u001b[38;5;124m\"\u001b[39m \u001b[38;5;241m+\u001b[39m \u001b[38;5;124mf\u001b[39m\u001b[38;5;124m\"\u001b[39m\u001b[38;5;124mCannot access gated repo for url \u001b[39m\u001b[38;5;132;01m{\u001b[39;00mresponse\u001b[38;5;241m.\u001b[39murl\u001b[38;5;132;01m}\u001b[39;00m\u001b[38;5;124m.\u001b[39m\u001b[38;5;124m\"\u001b[39m\n\u001b[1;32m    320\u001b[0m     )\n\u001b[0;32m--> 321\u001b[0m     \u001b[38;5;28;01mraise\u001b[39;00m GatedRepoError(message, response) \u001b[38;5;28;01mfrom\u001b[39;00m \u001b[38;5;21;01me\u001b[39;00m\n\u001b[1;32m    323\u001b[0m \u001b[38;5;28;01melif\u001b[39;00m error_message \u001b[38;5;241m==\u001b[39m \u001b[38;5;124m\"\u001b[39m\u001b[38;5;124mAccess to this resource is disabled.\u001b[39m\u001b[38;5;124m\"\u001b[39m:\n\u001b[1;32m    324\u001b[0m     message \u001b[38;5;241m=\u001b[39m (\n\u001b[1;32m    325\u001b[0m         \u001b[38;5;124mf\u001b[39m\u001b[38;5;124m\"\u001b[39m\u001b[38;5;132;01m{\u001b[39;00mresponse\u001b[38;5;241m.\u001b[39mstatus_code\u001b[38;5;132;01m}\u001b[39;00m\u001b[38;5;124m Client Error.\u001b[39m\u001b[38;5;124m\"\u001b[39m\n\u001b[1;32m    326\u001b[0m         \u001b[38;5;241m+\u001b[39m \u001b[38;5;124m\"\u001b[39m\u001b[38;5;130;01m\\n\u001b[39;00m\u001b[38;5;130;01m\\n\u001b[39;00m\u001b[38;5;124m\"\u001b[39m\n\u001b[0;32m   (...)\u001b[0m\n\u001b[1;32m    329\u001b[0m         \u001b[38;5;241m+\u001b[39m \u001b[38;5;124m\"\u001b[39m\u001b[38;5;124mAccess to this resource is disabled.\u001b[39m\u001b[38;5;124m\"\u001b[39m\n\u001b[1;32m    330\u001b[0m     )\n",
      "\u001b[0;31mGatedRepoError\u001b[0m: 403 Client Error. (Request ID: Root=1-667057ac-1776bb9a484812fd313497f0;1630caf8-8f28-4cc6-aed1-d7f3a944b764)\n\nCannot access gated repo for url https://huggingface.co/api/models/mistralai/Mistral-7B-v0.1.\nAccess to model mistralai/Mistral-7B-v0.1 is restricted and you are not in the authorized list. Visit https://huggingface.co/mistralai/Mistral-7B-v0.1 to ask for access."
     ]
    }
   ],
   "source": [
    "from langchain_community.llms import HuggingFaceHub\n",
    "hf = HuggingFaceHub(\n",
    "    repo_id=\"mistralai/Mistral-7B-v0.1\",\n",
    "    model_kwargs={\"temperature\":0.1,\"max_length\":500}\n",
    ")\n",
    "query = \"Total population in Dallas\"\n",
    "hf.invoke(query)"
   ]
  }
 ],
 "metadata": {
  "kernelspec": {
   "display_name": "env",
   "language": "python",
   "name": "python3"
  },
  "language_info": {
   "codemirror_mode": {
    "name": "ipython",
    "version": 3
   },
   "file_extension": ".py",
   "mimetype": "text/x-python",
   "name": "python",
   "nbconvert_exporter": "python",
   "pygments_lexer": "ipython3",
   "version": "3.10.9"
  }
 },
 "nbformat": 4,
 "nbformat_minor": 2
}
