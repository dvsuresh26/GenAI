{
 "cells": [
  {
   "cell_type": "code",
   "execution_count": 7,
   "metadata": {},
   "outputs": [
    {
     "name": "stdout",
     "output_type": "stream",
     "text": [
      "Cohere, a company at the forefront of AI language models, offers a range of career opportunities for talented individuals. Here is a list of some of the job roles available at Cohere, along with the required experience for each:\n",
      "\n",
      "- Machine Learning Engineer: Machine learning engineers are responsible for designing and developing AI models and algorithms. They work closely with data scientists and software engineers to implement machine learning solutions. Required experience: A master's or doctoral degree in computer science, mathematics, or a related field, along with several years of industry experience in machine learning and deep learning frameworks.\n",
      "\n",
      "- Data Scientist: Data scientists play a crucial role in analyzing large datasets, developing predictive models, and extracting valuable insights. They collaborate with various teams to drive data-informed decision-making. Required experience: A master's or doctoral degree in a quantitative field such as computer science, statistics, or mathematics, along with several years of industry experience in data analysis, machine learning, and programming languages like Python.\n",
      "\n",
      "- Software Engineer: Software engineers are responsible for designing, developing, and maintaining software systems and applications. They work on various projects, ensuring high-quality code and scalable solutions. Required experience: A bachelor's or master's degree in computer science, software engineering, or a related field, along with several years of industry experience in software development, programming languages (such as Python, Java, or C++), and software design patterns.\n",
      "\n",
      "- Natural Language Processing (NLP) Engineer: NLP engineers focus on developing natural language understanding and generation systems. They work on tasks such as text classification, sentiment analysis, named entity recognition, and dialogue systems. Required experience: A master's or doctoral degree in computer science, linguistics, or a related field, along with several years of industry experience in NLP techniques, machine learning, and programming languages used for NLP tasks.\n",
      "\n",
      "- Product Manager: Product managers define the product vision and strategy, working closely with engineering, design, and business teams. They are responsible for understanding customer needs, defining product requirements, and driving product development. Required experience: A bachelor's or master's degree in a relevant field, along with several years of industry experience in product management, including defining product roadmaps, conducting market research, and working with cross-functional teams.\n",
      "\n",
      "- Sales and Business Development: Cohere also offers sales and business development roles, focusing on generating new business opportunities, building client relationships, and driving revenue growth. Required experience: A bachelor's degree and several years of industry experience in sales, business development, or account management, preferably in the AI, SaaS, or technology sector.\n",
      "\n",
      "- Marketing and Communications: Marketing and communications professionals are responsible for developing and executing marketing strategies, creating content, and building the Cohere brand. Required experience: A bachelor's or master's degree in marketing, communications, or a related field, along with several years of industry experience in digital marketing, content creation, public relations, or brand management.\n",
      "\n",
      "- Customer Success: Customer success managers ensure that clients derive maximum value from Cohere's products and services. They provide onboarding, training, and ongoing support to customers, fostering long-term relationships. Required experience: A bachelor's degree and several years of industry experience in customer success, account management, or client services, preferably in a technology or SaaS environment.\n",
      "\n",
      "- Technical Writer: Technical writers create clear and concise documentation for Cohere's products and services, including user guides, tutorials, and API references. Required experience: A bachelor's degree in a relevant field such as technical writing, communications, or computer science, along with several years of industry experience in creating user-friendly documentation and a strong understanding of technical concepts.\n",
      "\n",
      "- People and Culture (Human Resources): Cohere's People and Culture team focuses on talent acquisition, employee experience, culture building, and organizational development. Required experience: A bachelor's or master's degree in human resources, business, or a related field, along with several years of industry experience in talent acquisition, employee relations, performance management, or similar HR functions.\n",
      "\n",
      "- Finance and Accounting: Finance and accounting professionals manage Cohere's financial operations, including budgeting, forecasting, financial reporting, and compliance. Required experience: A bachelor's or master's degree in finance, accounting, or a related field, along with several years of industry experience in financial analysis, accounting, or similar roles.\n",
      "\n",
      "It is important to note that the specific requirements for each role may vary, and Cohere is always looking for talented individuals with a passion for AI and a drive to make an impact. I recommend visiting Cohere's career page for the most up-to-date job listings and detailed information on the required qualifications and experience for each position.\n"
     ]
    }
   ],
   "source": [
    "import cohere\n",
    "import os\n",
    "from dotenv import load_dotenv\n",
    "load_dotenv()\n",
    "api=os.getenv(\"COHERE_API_KEY\")\n",
    "co = cohere.Client(api_key=api)\n",
    "\n",
    "response = co.chat(\n",
    "  model=\"command-r-plus\",\n",
    "  message=\"what kind of jobs we have at cohere.list out them with required experience\"\n",
    ")\n",
    "\n",
    "print(response.text) "
   ]
  },
  {
   "cell_type": "code",
   "execution_count": 9,
   "metadata": {},
   "outputs": [
    {
     "name": "stdout",
     "output_type": "stream",
     "text": [
      "Groq is a technology company that develops specialized hardware and software for artificial intelligence (AI) applications, with a focus on large language models (LLMs). \n",
      "\n",
      "Some key points about Groq and LLMs: \n",
      "\n",
      "- Groq's hardware is designed to efficiently run deep learning algorithms, especially those involving natural language processing (NLP).\n",
      "- Their software includes a proprietary deep learning framework optimized for their hardware.\n",
      "- Groq's LLMs are known for their ability to process large amounts of data and generate human-like responses, with applications in areas like language translation, text summarization, and question-answering.\n",
      "- The company has worked with various organizations to deploy LLMs for specific tasks, offering both on-premises and cloud-based solutions.\n",
      "- Groq's technology aims to provide faster and more efficient processing of LLMs, enabling real-time interactions and more complex language understanding.\n"
     ]
    }
   ],
   "source": [
    "response = co.chat(\n",
    "  model=\"command-r-plus\",\n",
    "  message=\"Tell me something about Groq in 100 words. List out them in points. I need info on LLMs\"\n",
    ")\n",
    "\n",
    "print(response.text) "
   ]
  }
 ],
 "metadata": {
  "kernelspec": {
   "display_name": "env",
   "language": "python",
   "name": "python3"
  },
  "language_info": {
   "codemirror_mode": {
    "name": "ipython",
    "version": 3
   },
   "file_extension": ".py",
   "mimetype": "text/x-python",
   "name": "python",
   "nbconvert_exporter": "python",
   "pygments_lexer": "ipython3",
   "version": "3.10.9"
  }
 },
 "nbformat": 4,
 "nbformat_minor": 2
}
